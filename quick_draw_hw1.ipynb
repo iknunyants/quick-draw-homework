{
  "nbformat": 4,
  "nbformat_minor": 0,
  "metadata": {
    "colab": {
      "name": "small of quick_draw_hw1.ipynb",
      "provenance": [],
      "collapsed_sections": [],
      "include_colab_link": true
    },
    "kernelspec": {
      "name": "python2",
      "display_name": "Python 2"
    },
    "accelerator": "GPU"
  },
  "cells": [
    {
      "cell_type": "markdown",
      "metadata": {
        "id": "view-in-github",
        "colab_type": "text"
      },
      "source": [
        "<a href=\"https://colab.research.google.com/github/iknunyants/quick-draw-homework/blob/master/quick_draw_hw1.ipynb\" target=\"_parent\"><img src=\"https://colab.research.google.com/assets/colab-badge.svg\" alt=\"Open In Colab\"/></a>"
      ]
    },
    {
      "cell_type": "markdown",
      "metadata": {
        "id": "loxhLtCHc3Sq",
        "colab_type": "text"
      },
      "source": [
        "# Imports"
      ]
    },
    {
      "cell_type": "code",
      "metadata": {
        "ExecuteTime": {
          "end_time": "2018-11-11T21:30:33.658534Z",
          "start_time": "2018-11-11T21:30:33.346958Z"
        },
        "id": "6YC8Y5Zbc3Su",
        "colab_type": "code",
        "colab": {}
      },
      "source": [
        "import zipfile\n",
        "import numpy as np\n",
        "import pandas as pd\n",
        "import os\n",
        "import tqdm\n",
        "import matplotlib \n",
        "%matplotlib inline\n",
        "import matplotlib.pyplot as plt\n",
        "import csv"
      ],
      "execution_count": 0,
      "outputs": []
    },
    {
      "cell_type": "markdown",
      "metadata": {
        "id": "tv_KOhKDdbDA",
        "colab_type": "text"
      },
      "source": [
        "# Prepare Google Drive (for persistent storage)"
      ]
    },
    {
      "cell_type": "code",
      "metadata": {
        "id": "AiNI7ZvBdJ5P",
        "colab_type": "code",
        "outputId": "f0e6a7c7-9396-453f-a02d-0d4023637a79",
        "colab": {
          "base_uri": "https://localhost:8080/",
          "height": 122
        }
      },
      "source": [
        "from google.colab import drive\n",
        "GOOGLE_DRIVE_MOUNT = \"/content/gdrive\"\n",
        "drive.mount(GOOGLE_DRIVE_MOUNT)"
      ],
      "execution_count": 0,
      "outputs": [
        {
          "output_type": "stream",
          "text": [
            "Go to this URL in a browser: https://accounts.google.com/o/oauth2/auth?client_id=947318989803-6bn6qk8qdgf4n4g3pfee6491hc0brc4i.apps.googleusercontent.com&redirect_uri=urn%3aietf%3awg%3aoauth%3a2.0%3aoob&response_type=code&scope=email%20https%3a%2f%2fwww.googleapis.com%2fauth%2fdocs.test%20https%3a%2f%2fwww.googleapis.com%2fauth%2fdrive%20https%3a%2f%2fwww.googleapis.com%2fauth%2fdrive.photos.readonly%20https%3a%2f%2fwww.googleapis.com%2fauth%2fpeopleapi.readonly\n",
            "\n",
            "Enter your authorization code:\n",
            "··········\n",
            "Mounted at /content/gdrive\n"
          ],
          "name": "stdout"
        }
      ]
    },
    {
      "cell_type": "markdown",
      "metadata": {
        "id": "CQJ7PGgKc3Sy",
        "colab_type": "text"
      },
      "source": [
        "# Download data from Kaggle"
      ]
    },
    {
      "cell_type": "code",
      "metadata": {
        "id": "0Yf_L2goc3Sy",
        "colab_type": "code",
        "outputId": "c02ca8ee-5af4-4106-b3ff-8a878682c3f3",
        "colab": {
          "base_uri": "https://localhost:8080/",
          "height": 204
        }
      },
      "source": [
        "# we need to use python 3 version of Kaggle!\n",
        "# remove python 2 version with `pip uninstall kaggle`\n",
        "! pip3 install kaggle --upgrade"
      ],
      "execution_count": 0,
      "outputs": [
        {
          "output_type": "stream",
          "text": [
            "Requirement already up-to-date: kaggle in /usr/local/lib/python3.6/dist-packages (1.5.6)\n",
            "Requirement already satisfied, skipping upgrade: python-slugify in /usr/local/lib/python3.6/dist-packages (from kaggle) (4.0.0)\n",
            "Requirement already satisfied, skipping upgrade: requests in /usr/local/lib/python3.6/dist-packages (from kaggle) (2.21.0)\n",
            "Requirement already satisfied, skipping upgrade: urllib3<1.25,>=1.21.1 in /usr/local/lib/python3.6/dist-packages (from kaggle) (1.24.3)\n",
            "Requirement already satisfied, skipping upgrade: six>=1.10 in /usr/local/lib/python3.6/dist-packages (from kaggle) (1.12.0)\n",
            "Requirement already satisfied, skipping upgrade: python-dateutil in /usr/local/lib/python3.6/dist-packages (from kaggle) (2.6.1)\n",
            "Requirement already satisfied, skipping upgrade: tqdm in /usr/local/lib/python3.6/dist-packages (from kaggle) (4.28.1)\n",
            "Requirement already satisfied, skipping upgrade: certifi in /usr/local/lib/python3.6/dist-packages (from kaggle) (2019.11.28)\n",
            "Requirement already satisfied, skipping upgrade: text-unidecode>=1.3 in /usr/local/lib/python3.6/dist-packages (from python-slugify->kaggle) (1.3)\n",
            "Requirement already satisfied, skipping upgrade: chardet<3.1.0,>=3.0.2 in /usr/local/lib/python3.6/dist-packages (from requests->kaggle) (3.0.4)\n",
            "Requirement already satisfied, skipping upgrade: idna<2.9,>=2.5 in /usr/local/lib/python3.6/dist-packages (from requests->kaggle) (2.8)\n"
          ],
          "name": "stdout"
        }
      ]
    },
    {
      "cell_type": "code",
      "metadata": {
        "ExecuteTime": {
          "end_time": "2018-11-06T15:29:19.895974Z",
          "start_time": "2018-11-06T15:26:21.334564Z"
        },
        "id": "meyoOAJIc3S3",
        "colab_type": "code",
        "outputId": "3b1f15c1-0692-4b3a-e64a-d0879099c7a8",
        "colab": {
          "base_uri": "https://localhost:8080/",
          "height": 204
        }
      },
      "source": [
        "# get <token> from https://www.kaggle.com/<user>/account, click \"Create New API Token\", open json file\n",
        "# ! KAGGLE_USERNAME=<user> KAGGLE_KEY=<token> kaggle competitions download -c quickdraw-doodle-recognition -f train_simplified.zip\n",
        "! wget https://zianboo.blob.core.windows.net/blobs/train_simplified.zip -O train_simplified.zip"
      ],
      "execution_count": 0,
      "outputs": [
        {
          "output_type": "stream",
          "text": [
            "--2020-03-12 11:40:50--  https://zianboo.blob.core.windows.net/blobs/train_simplified.zip\n",
            "Resolving zianboo.blob.core.windows.net (zianboo.blob.core.windows.net)... 52.239.223.132\n",
            "Connecting to zianboo.blob.core.windows.net (zianboo.blob.core.windows.net)|52.239.223.132|:443... connected.\n",
            "HTTP request sent, awaiting response... 200 OK\n",
            "Length: 7917607098 (7.4G) [application/zip]\n",
            "Saving to: ‘train_simplified.zip’\n",
            "\n",
            "train_simplified.zi 100%[===================>]   7.37G  20.5MB/s    in 9m 9s   \n",
            "\n",
            "2020-03-12 11:49:59 (13.8 MB/s) - ‘train_simplified.zip’ saved [7917607098/7917607098]\n",
            "\n"
          ],
          "name": "stdout"
        }
      ]
    },
    {
      "cell_type": "code",
      "metadata": {
        "ExecuteTime": {
          "end_time": "2018-11-11T21:30:36.384943Z",
          "start_time": "2018-11-11T21:30:36.339315Z"
        },
        "id": "xoAbOaHSc3S9",
        "colab_type": "code",
        "colab": {}
      },
      "source": [
        "# open zip file, will read everything from it\n",
        "zf = zipfile.ZipFile(\"train_simplified.zip\")"
      ],
      "execution_count": 0,
      "outputs": []
    },
    {
      "cell_type": "markdown",
      "metadata": {
        "id": "qQBvlhg9c3TA",
        "colab_type": "text"
      },
      "source": [
        "# Data generators from disk (no need to store in RAM)"
      ]
    },
    {
      "cell_type": "code",
      "metadata": {
        "ExecuteTime": {
          "end_time": "2018-11-11T21:30:37.151839Z",
          "start_time": "2018-11-11T21:30:37.140877Z"
        },
        "id": "tZbdSJsQc3TA",
        "colab_type": "code",
        "outputId": "e801e218-5633-48d8-9fce-648e00e4f457",
        "colab": {
          "base_uri": "https://localhost:8080/",
          "height": 34
        }
      },
      "source": [
        "class_labels = map(lambda x: x.replace(\".csv\", \"\"), zf.namelist())\n",
        "class_labels[:5]"
      ],
      "execution_count": 0,
      "outputs": [
        {
          "output_type": "execute_result",
          "data": {
            "text/plain": [
              "['fence', 'yoga', 'horse', 'sandwich', 'cat']"
            ]
          },
          "metadata": {
            "tags": []
          },
          "execution_count": 10
        }
      ]
    },
    {
      "cell_type": "code",
      "metadata": {
        "ExecuteTime": {
          "end_time": "2018-11-11T21:30:37.621785Z",
          "start_time": "2018-11-11T21:30:37.615369Z"
        },
        "id": "9TOjTx8dc3TF",
        "colab_type": "code",
        "colab": {}
      },
      "source": [
        "# loop through file eternally\n",
        "def get_eternal_csv_generator(fn, debug=False):\n",
        "    while True:\n",
        "        with zf.open(fn) as f:\n",
        "            f.readline()  # skip header\n",
        "            for line in csv.reader(f, delimiter=',', quotechar='\"'):\n",
        "                yield line[1], line[5]\n",
        "            if debug:\n",
        "                print fn, \"is done, starting from the beginning...\""
      ],
      "execution_count": 0,
      "outputs": []
    },
    {
      "cell_type": "code",
      "metadata": {
        "ExecuteTime": {
          "end_time": "2018-11-11T21:30:39.009017Z",
          "start_time": "2018-11-11T21:30:39.000280Z"
        },
        "id": "u4qBHBiPc3TJ",
        "colab_type": "code",
        "colab": {}
      },
      "source": [
        "def raw_batch_generator(batch_size, debug=False):\n",
        "    generators = np.array([get_eternal_csv_generator(fn, debug) for fn in zf.namelist()])\n",
        "    while True:\n",
        "        random_indices = np.random.randint(0, len(generators), size=batch_size)\n",
        "        yield [gen.next() for gen in generators[random_indices]]"
      ],
      "execution_count": 0,
      "outputs": []
    },
    {
      "cell_type": "markdown",
      "metadata": {
        "id": "wt4y4lgIc3TM",
        "colab_type": "text"
      },
      "source": [
        "# Images generator"
      ]
    },
    {
      "cell_type": "code",
      "metadata": {
        "ExecuteTime": {
          "end_time": "2018-11-11T21:52:36.485406Z",
          "start_time": "2018-11-11T21:52:36.472025Z"
        },
        "id": "Kk4Kj6Xac3TO",
        "colab_type": "code",
        "colab": {}
      },
      "source": [
        "# copy-paste from https://www.kaggle.com/jpmiller/image-based-cnn\n",
        "\n",
        "import ast\n",
        "from PIL import Image, ImageDraw\n",
        "import cv2\n",
        "\n",
        "IMG_SIZE = 128\n",
        "\n",
        "# faster conversion function\n",
        "def draw_it(strokes):\n",
        "    img = 255 * np.ones((256, 256), np.uint8)\n",
        "    for stroke in ast.literal_eval(strokes):\n",
        "        for i in range(len(stroke[0]) - 1):\n",
        "            _ = cv2.line(img, (stroke[0][i], stroke[1][i]), (stroke[0][i + 1], stroke[1][i + 1]), 0, 3)\n",
        "    return cv2.resize(img, (IMG_SIZE, IMG_SIZE))"
      ],
      "execution_count": 0,
      "outputs": []
    },
    {
      "cell_type": "code",
      "metadata": {
        "ExecuteTime": {
          "end_time": "2018-11-11T21:52:37.855100Z",
          "start_time": "2018-11-11T21:52:37.845212Z"
        },
        "id": "kOzJIvzvc3TR",
        "colab_type": "code",
        "colab": {}
      },
      "source": [
        "def images_and_labels_generator(batch_size):\n",
        "    for batch in raw_batch_generator(batch_size):\n",
        "        batch_images = []\n",
        "        batch_labels = []\n",
        "        for e in batch:\n",
        "            batch_images.append(draw_it(e[0]))\n",
        "            batch_labels.append(e[1])\n",
        "        batch_images = np.stack(batch_images, axis=0)\n",
        "        yield batch_images, batch_labels"
      ],
      "execution_count": 0,
      "outputs": []
    },
    {
      "cell_type": "code",
      "metadata": {
        "ExecuteTime": {
          "end_time": "2018-11-11T21:53:06.996766Z",
          "start_time": "2018-11-11T21:53:06.864570Z"
        },
        "id": "09C9fkmVc3TW",
        "colab_type": "code",
        "outputId": "6cdb7053-8b0a-4885-82cd-ef58a9b5d73e",
        "colab": {
          "base_uri": "https://localhost:8080/",
          "height": 281
        }
      },
      "source": [
        "b = images_and_labels_generator(32).next()\n",
        "plt.imshow(b[0][10, :, :])\n",
        "plt.title(b[1][10])\n",
        "plt.show()"
      ],
      "execution_count": 0,
      "outputs": [
        {
          "output_type": "display_data",
          "data": {
            "image/png": "[encoded data removed]",
            "text/plain": [
              "<Figure size 432x288 with 1 Axes>"
            ]
          },
          "metadata": {
            "tags": []
          }
        }
      ]
    },
    {
      "cell_type": "markdown",
      "metadata": {
        "id": "wLFPslRDc3Ta",
        "colab_type": "text"
      },
      "source": [
        "# Augmentation example"
      ]
    },
    {
      "cell_type": "markdown",
      "metadata": {
        "id": "pBn21LCubr1u",
        "colab_type": "text"
      },
      "source": [
        "Сначала я подкрутил параметры, которые вы дали. Я решил, что для оценки результатов аугментации мне стоит вручную менять параметры и смотреть на получающиеся картинки, а не запускать модель. Запустив раз десять соседние клетки, одно я понял точно: не все люди - художники. Чего стоят картинки класса \"animal migration\". Я уменьшил rotation_range до 25, потому что многие рисунки выходили из картинки и это не имело смысла. По той же причине я изменил zoom_range до 0.1. shear_range особо ни на что не влияет. Кроме того, можно добавить horizontal_flip=True, width_shift_range=0.1, height_shift_range=0.1."
      ]
    },
    {
      "cell_type": "code",
      "metadata": {
        "ExecuteTime": {
          "end_time": "2018-11-11T21:53:24.422083Z",
          "start_time": "2018-11-11T21:53:23.961929Z"
        },
        "scrolled": true,
        "id": "UkLIotkhc3Tb",
        "colab_type": "code",
        "outputId": "ed6e9b3b-c1df-4b1c-99ab-d42cd443fed5",
        "colab": {
          "base_uri": "https://localhost:8080/",
          "height": 1000
        }
      },
      "source": [
        "from keras.preprocessing.image import ImageDataGenerator\n",
        "\n",
        "image_gen = ImageDataGenerator(\n",
        "    rotation_range=30,\n",
        "    shear_range=0.2,\n",
        "    zoom_range=0.1,\n",
        "    fill_mode='constant',\n",
        "    cval=255,\n",
        "    horizontal_flip=True,\n",
        "    width_shift_range=0.1,\n",
        "    height_shift_range=0.1\n",
        ")\n",
        "\n",
        "image = b[0][10, :, :]\n",
        "\n",
        "# add 3 channels to image\n",
        "image = np.tile(np.expand_dims(image, axis=2), (1, 1, 3))\n",
        "\n",
        "# 5 random augmentations\n",
        "for _ in range(5):\n",
        "    plt.imshow(image_gen.random_transform(image)[:, :, 0])\n",
        "    plt.show()"
      ],
      "execution_count": 0,
      "outputs": [
        {
          "output_type": "stream",
          "text": [
            "Using TensorFlow backend.\n"
          ],
          "name": "stderr"
        },
        {
          "output_type": "display_data",
          "data": {
            "text/plain": [
              "<IPython.core.display.HTML object>"
            ],
            "text/html": [
              "<p style=\"color: red;\">\n",
              "The default version of TensorFlow in Colab will soon switch to TensorFlow 2.x.<br>\n",
              "We recommend you <a href=\"https://www.tensorflow.org/guide/migrate\" target=\"_blank\">upgrade</a> now \n",
              "or ensure your notebook will continue to use TensorFlow 1.x via the <code>%tensorflow_version 1.x</code> magic:\n",
              "<a href=\"https://colab.research.google.com/notebooks/tensorflow_version.ipynb\" target=\"_blank\">more info</a>.</p>\n"
            ]
          },
          "metadata": {
            "tags": []
          }
        },
        {
          "output_type": "display_data",
          "data": {
            "image/png": "[encoded data removed]",
            "text/plain": [
              "<Figure size 432x288 with 1 Axes>"
            ]
          },
          "metadata": {
            "tags": []
          }
        },
        {
          "output_type": "display_data",
          "data": {
            "image/png": "[encoded data removed]",
            "text/plain": [
              "<Figure size 432x288 with 1 Axes>"
            ]
          },
          "metadata": {
            "tags": []
          }
        },
        {
          "output_type": "display_data",
          "data": {
            "image/png": "[encoded data removed]",
            "text/plain": [
              "<Figure size 432x288 with 1 Axes>"
            ]
          },
          "metadata": {
            "tags": []
          }
        },
        {
          "output_type": "display_data",
          "data": {
            "image/png": "[encoded data removed]",
            "text/plain": [
              "<Figure size 432x288 with 1 Axes>"
            ]
          },
          "metadata": {
            "tags": []
          }
        },
        {
          "output_type": "display_data",
          "data": {
            "image/png": "[encoded data removed]",
            "text/plain": [
              "<Figure size 432x288 with 1 Axes>"
            ]
          },
          "metadata": {
            "tags": []
          }
        }
      ]
    },
    {
      "cell_type": "markdown",
      "metadata": {
        "ExecuteTime": {
          "end_time": "2018-11-06T22:00:38.205119Z",
          "start_time": "2018-11-06T22:00:38.199739Z"
        },
        "id": "zsFCFKzYc3Tf",
        "colab_type": "text"
      },
      "source": [
        "# Train simple network"
      ]
    },
    {
      "cell_type": "code",
      "metadata": {
        "ExecuteTime": {
          "end_time": "2018-11-07T16:09:43.935122Z",
          "start_time": "2018-11-07T16:09:43.339804Z"
        },
        "id": "DiGSZCNDc3Tg",
        "colab_type": "code",
        "colab": {}
      },
      "source": [
        "import tensorflow as tf\n",
        "import keras\n",
        "from keras import backend as K"
      ],
      "execution_count": 0,
      "outputs": []
    },
    {
      "cell_type": "code",
      "metadata": {
        "ExecuteTime": {
          "end_time": "2018-11-07T16:10:14.627454Z",
          "start_time": "2018-11-07T16:10:14.614258Z"
        },
        "id": "mWaDzqAQc3Tk",
        "colab_type": "code",
        "colab": {}
      },
      "source": [
        "# reset graph when you change architecture!\n",
        "def reset_tf_session():\n",
        "    curr_session = tf.get_default_session()\n",
        "    # close current session\n",
        "    if curr_session is not None:\n",
        "        curr_session.close()\n",
        "    # reset graph\n",
        "    K.clear_session()\n",
        "    # create new session\n",
        "    config = tf.ConfigProto()\n",
        "    config.gpu_options.allow_growth = True\n",
        "    s = tf.InteractiveSession(config=config)\n",
        "    K.set_session(s)\n",
        "    return s"
      ],
      "execution_count": 0,
      "outputs": []
    },
    {
      "cell_type": "code",
      "metadata": {
        "ExecuteTime": {
          "end_time": "2018-11-07T16:10:20.833559Z",
          "start_time": "2018-11-07T16:10:20.820480Z"
        },
        "scrolled": false,
        "id": "7cgZi1Z-c3Tn",
        "colab_type": "code",
        "outputId": "031fdb50-8d27-4f03-da07-47a1fe53ec77",
        "colab": {
          "base_uri": "https://localhost:8080/",
          "height": 102
        }
      },
      "source": [
        "NUM_CLASSES = len(class_labels)\n",
        "class_to_idx = {c: idx for idx, c in enumerate(class_labels)}\n",
        "class_to_idx.items()[:5]"
      ],
      "execution_count": 0,
      "outputs": [
        {
          "output_type": "execute_result",
          "data": {
            "text/plain": [
              "[('snowman', 134),\n",
              " ('eyeglasses', 254),\n",
              " ('ceiling fan', 18),\n",
              " ('camel', 90),\n",
              " ('stove', 119)]"
            ]
          },
          "metadata": {
            "tags": []
          },
          "execution_count": 19
        }
      ]
    },
    {
      "cell_type": "code",
      "metadata": {
        "ExecuteTime": {
          "end_time": "2018-11-07T16:11:58.574802Z",
          "start_time": "2018-11-07T16:11:58.565415Z"
        },
        "id": "Y2rA9F17c3Tt",
        "colab_type": "code",
        "colab": {}
      },
      "source": [
        "def train_iterator(batch_size):\n",
        "    for batch in images_and_labels_generator(batch_size):\n",
        "        images = batch[0].astype('float32')\n",
        "        images = images / 255 - 0.5\n",
        "        images = np.expand_dims(images, -1)\n",
        "        labels = keras.utils.to_categorical(map(class_to_idx.get, batch[1]), NUM_CLASSES)\n",
        "        yield images, labels"
      ],
      "execution_count": 0,
      "outputs": []
    },
    {
      "cell_type": "code",
      "metadata": {
        "ExecuteTime": {
          "end_time": "2018-11-07T16:11:59.923327Z",
          "start_time": "2018-11-07T16:11:59.898171Z"
        },
        "scrolled": true,
        "id": "M3B_XawSc3Tw",
        "colab_type": "code",
        "outputId": "32abaecb-b204-4fcd-8f28-8b7396d91058",
        "colab": {
          "base_uri": "https://localhost:8080/",
          "height": 51
        }
      },
      "source": [
        "sample = train_iterator(32).next()\n",
        "print sample[0].shape\n",
        "print sample[1].shape"
      ],
      "execution_count": 0,
      "outputs": [
        {
          "output_type": "stream",
          "text": [
            "(32, 128, 128, 1)\n",
            "(32, 340)\n"
          ],
          "name": "stdout"
        }
      ]
    },
    {
      "cell_type": "code",
      "metadata": {
        "ExecuteTime": {
          "end_time": "2018-11-07T16:12:13.491949Z",
          "start_time": "2018-11-07T16:12:13.485091Z"
        },
        "id": "pjD3_OlLc3T4",
        "colab_type": "code",
        "colab": {}
      },
      "source": [
        "# import necessary building blocks\n",
        "from keras.models import Sequential\n",
        "from keras.layers import Conv2D, MaxPooling2D, Flatten, Dense, Activation, Dropout, GlobalMaxPooling2D, GlobalAveragePooling2D, \\\n",
        "    BatchNormalization, LeakyReLU, ReLU"
      ],
      "execution_count": 0,
      "outputs": []
    },
    {
      "cell_type": "markdown",
      "metadata": {
        "id": "Xik-x0BSwn6P",
        "colab_type": "text"
      },
      "source": [
        "**Dropout - нет, спасибо**\n",
        "\n",
        "Изначально при написании модели добавил его после каждой свертки. Несмотря на то, что параметры были в районе 0.15, результаты на кагле были минимум на 0.05 хуже. В конечном счете из статей я узнал, что в большинстве случае использовать dropout после сверток неразумно, поэтому я от них отказася. Можно было бы использовать dropout после полносвязных слоёв, но у меня он только в конце. Можно было бы dropout использовать после полносвязного слоя, если бы я поставил Flatten() вместо GlobalAveragePooling2D, что я и проболва делать неоднократно, но это не улучшило результаты, зато добавило очень много параметров.\n",
        "\n",
        "**Что делать перед GlobalAveragePooling2D?**\n",
        "\n",
        "Очень долго я сохранял конструкцию при которой перед GlobalAveragePooling2D у меня стоял MaxPooling2D. В какой-то момент я решил попробовать заменить на свёртку понижающую размерность и это дало улучшение на 0.03 в kaggle при недолгом обучении модели. Думаю, намного лучше можно было бы увидеть разницу на больших эпохах и батче. \n",
        "\n",
        "**Лучше не пропускать левых пасажиров**\n",
        "\n",
        "Конечно, не обошлось без опытов с функциями активаций. LeakyReLU для меня была альтернативой ReLU, но не долго прожила. Пробовал ставить alpha 0.3, 0.2, 0.1, 0.01 и понял, что лучше довериться классике, так как ReLU выдавал также результаты лучшие примерно на 0.04.\n",
        "\n",
        "**Современные тренды**\n",
        "\n",
        "Чтобы повысить score безусловно надо искать какие-то улучшения. Как оказалось, со временем лучшие архитектуры нейросетей используют меньший kernel. До этого моя модель преимущественно состояла из 5x5 свёрнок и пары 4x4, но поменяв все, кроме одной, на 3x3 скор подскачил, а параметров стало меньше. \n",
        "\n",
        "**Go deeper, not wider**\n",
        "\n",
        "В продолжение к прошлому пункту я начал добавлять слои свёрток, чтобы на выходе у меня было бОльшая глубина изображения (иначе GlobalAveragePooling2D возвращал мало параметров), но при этом чтобы она изменяялась не больше чем в 2 раза. Ожидаемо, это привело к большему score'у."
      ]
    },
    {
      "cell_type": "code",
      "metadata": {
        "ExecuteTime": {
          "end_time": "2018-11-07T16:15:15.162847Z",
          "start_time": "2018-11-07T16:15:15.148961Z"
        },
        "id": "VGhot6Tjc3T5",
        "colab_type": "code",
        "colab": {}
      },
      "source": [
        "def make_model():\n",
        "    \"\"\"\n",
        "    Define your model architecture here.1\n",
        "    Returns `Sequential` model.\n",
        "    \"\"\"\n",
        "    model = Sequential()\n",
        "    \n",
        "    model.add(Conv2D(8, (3, 3), padding='same', activation='relu', input_shape=(IMG_SIZE, IMG_SIZE, 1)))\n",
        "    model.add(BatchNormalization())\n",
        "    model.add(Conv2D(16, (3, 3), padding='same', activation='relu'))\n",
        "    model.add(BatchNormalization())\n",
        "    model.add(Conv2D(32, (3, 3), padding='same', activation='relu'))\n",
        "    model.add(BatchNormalization())\n",
        "    model.add(MaxPooling2D((2,2), strides=(2,2), padding='valid'))\n",
        "\n",
        "    model.add(Conv2D(64, (3, 3), padding='same', activation='relu'))\n",
        "    model.add(BatchNormalization())\n",
        "    model.add(Conv2D(64, (3, 3), padding='same', activation='relu'))\n",
        "    model.add(BatchNormalization())\n",
        "    model.add(MaxPooling2D((2,2), strides=(2,2), padding='valid'))\n",
        "\n",
        "    model.add(Conv2D(128, (3, 3), padding='same', activation='relu'))\n",
        "    model.add(BatchNormalization())\n",
        "    model.add(Conv2D(128, (3, 3), padding='same', activation='relu'))\n",
        "    model.add(BatchNormalization())\n",
        "    model.add(MaxPooling2D((2,2), strides=(2,2), padding='valid'))\n",
        "    \n",
        "    model.add(Conv2D(128, (3, 3), padding='same', activation='relu'))\n",
        "    model.add(BatchNormalization())\n",
        "    model.add(Conv2D(256, (3, 3), padding='same', activation='relu'))\n",
        "    model.add(BatchNormalization())\n",
        "    model.add(Conv2D(256, (3, 3), padding='same', activation='relu'))\n",
        "    model.add(BatchNormalization())\n",
        "    model.add(Conv2D(512, (4, 4), strides=(2, 2), padding='valid', activation='relu'))\n",
        "    model.add(BatchNormalization())\n",
        "\n",
        "    model.add(GlobalAveragePooling2D())\n",
        "\n",
        "    model.add(Dense(NUM_CLASSES, activation=\"softmax\"))\n",
        "    \n",
        "    return model"
      ],
      "execution_count": 0,
      "outputs": []
    },
    {
      "cell_type": "code",
      "metadata": {
        "ExecuteTime": {
          "end_time": "2018-11-07T16:15:16.796282Z",
          "start_time": "2018-11-07T16:15:16.726472Z"
        },
        "id": "fllxOY8Dc3T9",
        "colab_type": "code",
        "outputId": "1def5fd7-55fc-4c27-b6fa-a35918f28c3b",
        "colab": {
          "base_uri": "https://localhost:8080/",
          "height": 1000
        }
      },
      "source": [
        "# describe model\n",
        "s = reset_tf_session()  # clear default graph\n",
        "model = make_model()\n",
        "model.summary()"
      ],
      "execution_count": 0,
      "outputs": [
        {
          "output_type": "stream",
          "text": [
            "WARNING: Logging before flag parsing goes to stderr.\n",
            "W0312 11:50:10.215817 140324409853824 module_wrapper.py:139] From /usr/local/lib/python2.7/dist-packages/keras/backend/tensorflow_backend.py:95: The name tf.reset_default_graph is deprecated. Please use tf.compat.v1.reset_default_graph instead.\n",
            "\n",
            "W0312 11:50:10.218574 140324409853824 module_wrapper.py:139] From /usr/local/lib/python2.7/dist-packages/keras/backend/tensorflow_backend.py:98: The name tf.placeholder_with_default is deprecated. Please use tf.compat.v1.placeholder_with_default instead.\n",
            "\n",
            "W0312 11:50:10.234503 140324409853824 module_wrapper.py:139] From /usr/local/lib/python2.7/dist-packages/keras/backend/tensorflow_backend.py:102: The name tf.get_default_graph is deprecated. Please use tf.compat.v1.get_default_graph instead.\n",
            "\n",
            "W0312 11:50:11.766232 140324409853824 module_wrapper.py:139] From /usr/local/lib/python2.7/dist-packages/keras/backend/tensorflow_backend.py:517: The name tf.placeholder is deprecated. Please use tf.compat.v1.placeholder instead.\n",
            "\n",
            "W0312 11:50:11.769551 140324409853824 module_wrapper.py:139] From /usr/local/lib/python2.7/dist-packages/keras/backend/tensorflow_backend.py:4138: The name tf.random_uniform is deprecated. Please use tf.random.uniform instead.\n",
            "\n",
            "W0312 11:50:11.830353 140324409853824 module_wrapper.py:139] From /usr/local/lib/python2.7/dist-packages/keras/backend/tensorflow_backend.py:190: The name tf.global_variables is deprecated. Please use tf.compat.v1.global_variables instead.\n",
            "\n",
            "W0312 11:50:11.831657 140324409853824 module_wrapper.py:139] From /usr/local/lib/python2.7/dist-packages/keras/backend/tensorflow_backend.py:199: The name tf.is_variable_initialized is deprecated. Please use tf.compat.v1.is_variable_initialized instead.\n",
            "\n",
            "W0312 11:50:11.881346 140324409853824 module_wrapper.py:139] From /usr/local/lib/python2.7/dist-packages/keras/backend/tensorflow_backend.py:206: The name tf.variables_initializer is deprecated. Please use tf.compat.v1.variables_initializer instead.\n",
            "\n",
            "W0312 11:50:18.045272 140324409853824 module_wrapper.py:139] From /usr/local/lib/python2.7/dist-packages/keras/backend/tensorflow_backend.py:1834: The name tf.nn.fused_batch_norm is deprecated. Please use tf.compat.v1.nn.fused_batch_norm instead.\n",
            "\n",
            "W0312 11:50:18.268279 140324409853824 module_wrapper.py:139] From /usr/local/lib/python2.7/dist-packages/keras/backend/tensorflow_backend.py:3976: The name tf.nn.max_pool is deprecated. Please use tf.nn.max_pool2d instead.\n",
            "\n"
          ],
          "name": "stderr"
        },
        {
          "output_type": "stream",
          "text": [
            "_________________________________________________________________\n",
            "Layer (type)                 Output Shape              Param #   \n",
            "=================================================================\n",
            "conv2d_1 (Conv2D)            (None, 128, 128, 8)       80        \n",
            "_________________________________________________________________\n",
            "batch_normalization_1 (Batch (None, 128, 128, 8)       32        \n",
            "_________________________________________________________________\n",
            "conv2d_2 (Conv2D)            (None, 128, 128, 16)      1168      \n",
            "_________________________________________________________________\n",
            "batch_normalization_2 (Batch (None, 128, 128, 16)      64        \n",
            "_________________________________________________________________\n",
            "conv2d_3 (Conv2D)            (None, 128, 128, 32)      4640      \n",
            "_________________________________________________________________\n",
            "batch_normalization_3 (Batch (None, 128, 128, 32)      128       \n",
            "_________________________________________________________________\n",
            "max_pooling2d_1 (MaxPooling2 (None, 64, 64, 32)        0         \n",
            "_________________________________________________________________\n",
            "conv2d_4 (Conv2D)            (None, 64, 64, 64)        18496     \n",
            "_________________________________________________________________\n",
            "batch_normalization_4 (Batch (None, 64, 64, 64)        256       \n",
            "_________________________________________________________________\n",
            "conv2d_5 (Conv2D)            (None, 64, 64, 64)        36928     \n",
            "_________________________________________________________________\n",
            "batch_normalization_5 (Batch (None, 64, 64, 64)        256       \n",
            "_________________________________________________________________\n",
            "max_pooling2d_2 (MaxPooling2 (None, 32, 32, 64)        0         \n",
            "_________________________________________________________________\n",
            "conv2d_6 (Conv2D)            (None, 32, 32, 128)       73856     \n",
            "_________________________________________________________________\n",
            "batch_normalization_6 (Batch (None, 32, 32, 128)       512       \n",
            "_________________________________________________________________\n",
            "conv2d_7 (Conv2D)            (None, 32, 32, 128)       147584    \n",
            "_________________________________________________________________\n",
            "batch_normalization_7 (Batch (None, 32, 32, 128)       512       \n",
            "_________________________________________________________________\n",
            "max_pooling2d_3 (MaxPooling2 (None, 16, 16, 128)       0         \n",
            "_________________________________________________________________\n",
            "conv2d_8 (Conv2D)            (None, 16, 16, 128)       147584    \n",
            "_________________________________________________________________\n",
            "batch_normalization_8 (Batch (None, 16, 16, 128)       512       \n",
            "_________________________________________________________________\n",
            "conv2d_9 (Conv2D)            (None, 16, 16, 256)       295168    \n",
            "_________________________________________________________________\n",
            "batch_normalization_9 (Batch (None, 16, 16, 256)       1024      \n",
            "_________________________________________________________________\n",
            "conv2d_10 (Conv2D)           (None, 16, 16, 256)       590080    \n",
            "_________________________________________________________________\n",
            "batch_normalization_10 (Batc (None, 16, 16, 256)       1024      \n",
            "_________________________________________________________________\n",
            "conv2d_11 (Conv2D)           (None, 7, 7, 512)         2097664   \n",
            "_________________________________________________________________\n",
            "batch_normalization_11 (Batc (None, 7, 7, 512)         2048      \n",
            "_________________________________________________________________\n",
            "global_average_pooling2d_1 ( (None, 512)               0         \n",
            "_________________________________________________________________\n",
            "dense_1 (Dense)              (None, 340)               174420    \n",
            "=================================================================\n",
            "Total params: 3,594,036\n",
            "Trainable params: 3,590,852\n",
            "Non-trainable params: 3,184\n",
            "_________________________________________________________________\n"
          ],
          "name": "stdout"
        }
      ]
    },
    {
      "cell_type": "code",
      "metadata": {
        "ExecuteTime": {
          "end_time": "2018-11-07T16:21:07.829654Z",
          "start_time": "2018-11-07T16:21:07.822122Z"
        },
        "id": "6A7sX1uzc3UB",
        "colab_type": "code",
        "colab": {}
      },
      "source": [
        "# custom metrics we need\n",
        "from keras.metrics import categorical_accuracy, top_k_categorical_accuracy\n",
        "\n",
        "def top_3_accuracy(y_true, y_pred):\n",
        "    return top_k_categorical_accuracy(y_true, y_pred, k=3)"
      ],
      "execution_count": 0,
      "outputs": []
    },
    {
      "cell_type": "code",
      "metadata": {
        "id": "tmncf7k3fBkl",
        "colab_type": "code",
        "colab": {}
      },
      "source": [
        "import numpy as np\n",
        "\n",
        "def apk(actual, predicted, k=10):\n",
        "\n",
        "    if len(predicted)>k:\n",
        "        predicted = predicted[:k]\n",
        "\n",
        "    score = 0.0\n",
        "    num_hits = 0.0\n",
        "\n",
        "    for i,p in enumerate(predicted):\n",
        "        if p in actual and p not in predicted[:i]:\n",
        "            num_hits += 1.0\n",
        "            score += num_hits / (i+1.0)\n",
        "\n",
        "    if not actual:\n",
        "        return 0.0\n",
        "\n",
        "    return score / min(len(actual), k)\n",
        "\n",
        "def mapk(actual, predicted, k=3):\n",
        "    return np.mean([apk(a,p,k) for a,p in zip(actual, predicted)])"
      ],
      "execution_count": 0,
      "outputs": []
    },
    {
      "cell_type": "code",
      "metadata": {
        "ExecuteTime": {
          "end_time": "2018-11-07T16:16:27.284265Z",
          "start_time": "2018-11-07T16:16:27.184294Z"
        },
        "id": "t9_oNwtcc3UD",
        "colab_type": "code",
        "colab": {}
      },
      "source": [
        "BATCH_SIZE = 512\n",
        "STEPS_PER_EPOCH = 300\n",
        "EPOCHS = 35\n",
        "\n",
        "s = reset_tf_session()  # clear default graph\n",
        "model = make_model()  # define our model\n",
        "\n",
        "# prepare model for fitting (loss, optimizer, etc)\n",
        "model.compile(\n",
        "    loss='categorical_crossentropy',\n",
        "    optimizer=keras.optimizers.adam(clipnorm=5.),  # gradient clipping just in case\n",
        "    metrics=[categorical_accuracy, top_3_accuracy]  # report top 3 accuracy, correlates with MAP@3!\n",
        ")"
      ],
      "execution_count": 0,
      "outputs": []
    },
    {
      "cell_type": "code",
      "metadata": {
        "ExecuteTime": {
          "end_time": "2018-11-07T16:20:03.725667Z",
          "start_time": "2018-11-07T16:20:03.715510Z"
        },
        "id": "eTEIb-i2c3UJ",
        "colab_type": "code",
        "colab": {}
      },
      "source": [
        "# for saving the model after every epoch\n",
        "from keras.models import save_model\n",
        "\n",
        "class ModelSaveCallback(keras.callbacks.Callback):\n",
        "    def __init__(self, file_name):\n",
        "        super(ModelSaveCallback, self).__init__()\n",
        "        self.file_name = file_name\n",
        "\n",
        "    def on_epoch_end(self, epoch, logs=None):\n",
        "        model_filename = self.file_name.format(epoch)\n",
        "        save_model(self.model, model_filename)\n",
        "        print(\"Model saved in {}\".format(model_filename))"
      ],
      "execution_count": 0,
      "outputs": []
    },
    {
      "cell_type": "code",
      "metadata": {
        "id": "6r5Vq1y7hGtE",
        "colab_type": "code",
        "outputId": "67e75999-8c5d-484c-d86b-fb624196bce8",
        "colab": {
          "base_uri": "https://localhost:8080/",
          "height": 51
        }
      },
      "source": [
        "import os\n",
        "GOOGLE_DRIVE_ROOT = GOOGLE_DRIVE_MOUNT + \"/\" + filter(lambda x: x[0] != '.', os.listdir(GOOGLE_DRIVE_MOUNT))[0]\n",
        "print GOOGLE_DRIVE_ROOT\n",
        "\n",
        "# will save checkpoints to Google Drive\n",
        "CHECKPOINT_TEMPLATE = GOOGLE_DRIVE_ROOT + \"/models/model_{}\"\n",
        "print CHECKPOINT_TEMPLATE"
      ],
      "execution_count": 0,
      "outputs": [
        {
          "output_type": "stream",
          "text": [
            "/content/gdrive/My Drive\n",
            "/content/gdrive/My Drive/models/model_{}\n"
          ],
          "name": "stdout"
        }
      ]
    },
    {
      "cell_type": "code",
      "metadata": {
        "ExecuteTime": {
          "end_time": "2018-11-07T16:22:04.352396Z",
          "start_time": "2018-11-07T16:22:03.726954Z"
        },
        "id": "2ckSKTj1c3UM",
        "colab_type": "code",
        "colab": {}
      },
      "source": [
        "last_finished_epoch = 0\n",
        "\n",
        "# you can continue from snapshot!!!\n",
        "# from keras.models import load_model\n",
        "# s = reset_tf_session()\n",
        "# last_finished_epoch = 17\n",
        "\n",
        "# model = load_model(CHECKPOINT_TEMPLATE.format(last_finished_epoch), \n",
        "#                    custom_objects={\"top_3_accuracy\": top_3_accuracy})"
      ],
      "execution_count": 0,
      "outputs": []
    },
    {
      "cell_type": "code",
      "metadata": {
        "ExecuteTime": {
          "end_time": "2018-11-07T16:22:12.823711Z",
          "start_time": "2018-11-07T16:22:08.154274Z"
        },
        "id": "LhG7E4tnc3UO",
        "colab_type": "code",
        "colab": {}
      },
      "source": [
        "# fit the model with our eternal generator!\n",
        "model.fit_generator(\n",
        "    train_iterator(BATCH_SIZE), \n",
        "    steps_per_epoch=STEPS_PER_EPOCH,\n",
        "    epochs=EPOCHS,\n",
        "    callbacks=[ModelSaveCallback(CHECKPOINT_TEMPLATE)],\n",
        "    verbose=1,\n",
        "    initial_epoch=last_finished_epoch\n",
        ")"
      ],
      "execution_count": 0,
      "outputs": []
    },
    {
      "cell_type": "markdown",
      "metadata": {
        "id": "74p0Ic3kc3US",
        "colab_type": "text"
      },
      "source": [
        "# Score test set"
      ]
    },
    {
      "cell_type": "code",
      "metadata": {
        "ExecuteTime": {
          "end_time": "2018-11-07T12:18:38.307707Z",
          "start_time": "2018-11-07T12:18:34.929466Z"
        },
        "id": "asA1POMRc3UT",
        "colab_type": "code",
        "outputId": "ca9f7e18-3cc2-4e6a-c15f-28472b29ce65",
        "colab": {
          "base_uri": "https://localhost:8080/",
          "height": 34
        }
      },
      "source": [
        "# download test set\n",
        "! KAGGLE_USERNAME=ivanknu KAGGLE_KEY=cb3f739e7c61898325f835aa223e2eca kaggle competitions download -c quickdraw-doodle-recognition -f test_simplified.csv"
      ],
      "execution_count": 0,
      "outputs": [
        {
          "output_type": "stream",
          "text": [
            "test_simplified.csv.zip: Skipping, found more recently modified local copy (use --force to force download)\n"
          ],
          "name": "stdout"
        }
      ]
    },
    {
      "cell_type": "code",
      "metadata": {
        "id": "4_Qgt2TF6Tum",
        "colab_type": "code",
        "colab": {}
      },
      "source": [
        "#! unzip test_simplified.csv.zip"
      ],
      "execution_count": 0,
      "outputs": []
    },
    {
      "cell_type": "code",
      "metadata": {
        "ExecuteTime": {
          "end_time": "2018-11-07T16:25:30.169624Z",
          "start_time": "2018-11-07T16:25:30.148875Z"
        },
        "id": "G5z5FqzNc3UX",
        "colab_type": "code",
        "colab": {}
      },
      "source": [
        "def test_csv_iterator(batch_size):\n",
        "    with open(\"test_simplified.csv\", \"r\") as f:\n",
        "        batch_keys = []\n",
        "        batch_images = []\n",
        "        f.readline()  # skip header\n",
        "        for line in csv.reader(f, delimiter=',', quotechar='\"'):\n",
        "            batch_keys.append(line[0])\n",
        "            batch_images.append(draw_it(line[2]))\n",
        "            if len(batch_images) == batch_size:\n",
        "                batch_images = np.stack(batch_images, axis=0)\n",
        "                batch_images = np.expand_dims(batch_images, -1)\n",
        "                batch_images = batch_images.astype('float32')\n",
        "                batch_images = batch_images / 255 - 0.5\n",
        "                yield batch_keys, batch_images\n",
        "                batch_keys = []\n",
        "                batch_images = []\n",
        "        if batch_images:  # last batch\n",
        "            batch_images = np.stack(batch_images, axis=0)\n",
        "            batch_images = np.expand_dims(batch_images, -1)\n",
        "            batch_images = batch_images.astype('float32')\n",
        "            batch_images = batch_images / 255 - 0.5\n",
        "            yield batch_keys, batch_images"
      ],
      "execution_count": 0,
      "outputs": []
    },
    {
      "cell_type": "code",
      "metadata": {
        "ExecuteTime": {
          "end_time": "2018-11-07T16:25:32.406415Z",
          "start_time": "2018-11-07T16:25:32.203842Z"
        },
        "id": "gNoCtHZoc3Ub",
        "colab_type": "code",
        "outputId": "76cdfeec-b5e0-4149-8565-83503f629ba0",
        "colab": {
          "base_uri": "https://localhost:8080/",
          "height": 34
        }
      },
      "source": [
        "! wc -l test_simplified.csv"
      ],
      "execution_count": 0,
      "outputs": [
        {
          "output_type": "stream",
          "text": [
            "112200 test_simplified.csv\n"
          ],
          "name": "stdout"
        }
      ]
    },
    {
      "cell_type": "code",
      "metadata": {
        "ExecuteTime": {
          "end_time": "2018-11-07T16:26:30.259083Z",
          "start_time": "2018-11-07T16:25:32.579734Z"
        },
        "scrolled": true,
        "id": "4OS4iYqAc3Uf",
        "colab_type": "code",
        "outputId": "b8ac01d2-daa7-4cfe-f0b1-7c98a5dbc1db",
        "colab": {
          "base_uri": "https://localhost:8080/",
          "height": 1000
        }
      },
      "source": [
        "with open(\"submission.csv\", \"w\", buffering=1*1024*1024) as f:\n",
        "    f.write(\"key_id,word\\n\")\n",
        "    for batch_keys, batch_images in tqdm.tqdm(test_csv_iterator(BATCH_SIZE), total=np.ceil(112200./BATCH_SIZE)):\n",
        "        probas = model.predict_proba(batch_images, BATCH_SIZE)\n",
        "        top_3_classes = np.argsort(probas, axis=1)[:, [-1, -2, -3]]\n",
        "        labels = map(lambda x: \" \".join(\"_\".join(class_labels[idx].split()) for idx in x), top_3_classes)\n",
        "        for key, labels in zip(batch_keys, labels):\n",
        "            f.write(key + \",\" + labels + \"\\n\")"
      ],
      "execution_count": 0,
      "outputs": [
        {
          "output_type": "stream",
          "text": [
            "\n",
            "  0%|          | 0/220.0 [00:00<?, ?it/s]\u001b[A\n",
            "  0%|          | 1/220.0 [00:00<02:16,  1.60it/s]\u001b[A\n",
            "  1%|          | 2/220.0 [00:01<02:09,  1.69it/s]\u001b[A\n",
            "  1%|▏         | 3/220.0 [00:01<02:02,  1.77it/s]\u001b[A\n",
            "  2%|▏         | 4/220.0 [00:02<01:58,  1.82it/s]\u001b[A\n",
            "  2%|▏         | 5/220.0 [00:02<01:54,  1.87it/s]\u001b[A\n",
            "  3%|▎         | 6/220.0 [00:03<01:53,  1.89it/s]\u001b[A\n",
            "  3%|▎         | 7/220.0 [00:03<01:51,  1.90it/s]\u001b[A\n",
            "  4%|▎         | 8/220.0 [00:04<01:49,  1.93it/s]\u001b[A\n",
            "  4%|▍         | 9/220.0 [00:04<01:48,  1.95it/s]\u001b[A\n",
            "  5%|▍         | 10/220.0 [00:05<01:47,  1.95it/s]\u001b[A\n",
            "  5%|▌         | 11/220.0 [00:05<01:46,  1.97it/s]\u001b[A\n",
            "  5%|▌         | 12/220.0 [00:06<01:45,  1.97it/s]\u001b[A\n",
            "  6%|▌         | 13/220.0 [00:06<01:44,  1.99it/s]\u001b[A\n",
            "  6%|▋         | 14/220.0 [00:07<01:43,  1.98it/s]\u001b[A\n",
            "  7%|▋         | 15/220.0 [00:07<01:44,  1.96it/s]\u001b[A\n",
            "  7%|▋         | 16/220.0 [00:08<01:43,  1.97it/s]\u001b[A\n",
            "  8%|▊         | 17/220.0 [00:08<01:43,  1.96it/s]\u001b[A\n",
            "  8%|▊         | 18/220.0 [00:09<01:42,  1.96it/s]\u001b[A\n",
            "  9%|▊         | 19/220.0 [00:09<01:42,  1.96it/s]\u001b[A\n",
            "  9%|▉         | 20/220.0 [00:10<01:42,  1.96it/s]\u001b[A\n",
            " 10%|▉         | 21/220.0 [00:10<01:41,  1.95it/s]\u001b[A\n",
            " 10%|█         | 22/220.0 [00:11<01:40,  1.96it/s]\u001b[A\n",
            " 10%|█         | 23/220.0 [00:11<01:40,  1.97it/s]\u001b[A\n",
            " 11%|█         | 24/220.0 [00:12<01:39,  1.97it/s]\u001b[A\n",
            " 11%|█▏        | 25/220.0 [00:12<01:39,  1.96it/s]\u001b[A\n",
            " 12%|█▏        | 26/220.0 [00:13<01:39,  1.96it/s]\u001b[A\n",
            " 12%|█▏        | 27/220.0 [00:13<01:38,  1.96it/s]\u001b[A\n",
            " 13%|█▎        | 28/220.0 [00:14<01:37,  1.96it/s]\u001b[A\n",
            " 13%|█▎        | 29/220.0 [00:14<01:37,  1.96it/s]\u001b[A\n",
            " 14%|█▎        | 30/220.0 [00:15<01:36,  1.96it/s]\u001b[A\n",
            " 14%|█▍        | 31/220.0 [00:15<01:36,  1.96it/s]\u001b[A\n",
            " 15%|█▍        | 32/220.0 [00:16<01:35,  1.97it/s]\u001b[A\n",
            " 15%|█▌        | 33/220.0 [00:16<01:35,  1.96it/s]\u001b[A\n",
            " 15%|█▌        | 34/220.0 [00:17<01:34,  1.97it/s]\u001b[A\n",
            " 16%|█▌        | 35/220.0 [00:17<01:34,  1.95it/s]\u001b[A\n",
            " 16%|█▋        | 36/220.0 [00:18<01:34,  1.96it/s]\u001b[A\n",
            " 17%|█▋        | 37/220.0 [00:18<01:33,  1.95it/s]\u001b[A\n",
            " 17%|█▋        | 38/220.0 [00:19<01:33,  1.95it/s]\u001b[A\n",
            " 18%|█▊        | 39/220.0 [00:19<01:33,  1.94it/s]\u001b[A\n",
            " 18%|█▊        | 40/220.0 [00:20<01:33,  1.93it/s]\u001b[A\n",
            " 19%|█▊        | 41/220.0 [00:21<01:32,  1.94it/s]\u001b[A\n",
            " 19%|█▉        | 42/220.0 [00:21<01:31,  1.95it/s]\u001b[A\n",
            " 20%|█▉        | 43/220.0 [00:22<01:30,  1.95it/s]\u001b[A\n",
            " 20%|██        | 44/220.0 [00:22<01:30,  1.95it/s]\u001b[A\n",
            " 20%|██        | 45/220.0 [00:23<01:29,  1.95it/s]\u001b[A\n",
            " 21%|██        | 46/220.0 [00:23<01:29,  1.95it/s]\u001b[A\n",
            " 21%|██▏       | 47/220.0 [00:24<01:28,  1.96it/s]\u001b[A\n",
            " 22%|██▏       | 48/220.0 [00:24<01:28,  1.95it/s]\u001b[A\n",
            " 22%|██▏       | 49/220.0 [00:25<01:27,  1.95it/s]\u001b[A\n",
            " 23%|██▎       | 50/220.0 [00:25<01:27,  1.94it/s]\u001b[A\n",
            " 23%|██▎       | 51/220.0 [00:26<01:26,  1.95it/s]\u001b[A\n",
            " 24%|██▎       | 52/220.0 [00:26<01:25,  1.95it/s]\u001b[A\n",
            " 24%|██▍       | 53/220.0 [00:27<01:26,  1.94it/s]\u001b[A\n",
            " 25%|██▍       | 54/220.0 [00:27<01:25,  1.93it/s]\u001b[A\n",
            " 25%|██▌       | 55/220.0 [00:28<01:25,  1.93it/s]\u001b[A\n",
            " 25%|██▌       | 56/220.0 [00:28<01:24,  1.94it/s]\u001b[A\n",
            " 26%|██▌       | 57/220.0 [00:29<01:23,  1.95it/s]\u001b[A\n",
            " 26%|██▋       | 58/220.0 [00:29<01:23,  1.95it/s]\u001b[A\n",
            " 27%|██▋       | 59/220.0 [00:30<01:22,  1.96it/s]\u001b[A\n",
            " 27%|██▋       | 60/220.0 [00:30<01:21,  1.97it/s]\u001b[A\n",
            " 28%|██▊       | 61/220.0 [00:31<01:21,  1.95it/s]\u001b[A\n",
            " 28%|██▊       | 62/220.0 [00:31<01:21,  1.95it/s]\u001b[A\n",
            " 29%|██▊       | 63/220.0 [00:32<01:20,  1.95it/s]\u001b[A\n",
            " 29%|██▉       | 64/220.0 [00:32<01:19,  1.97it/s]\u001b[A\n",
            " 30%|██▉       | 65/220.0 [00:33<01:19,  1.95it/s]\u001b[A\n",
            " 30%|███       | 66/220.0 [00:33<01:18,  1.95it/s]\u001b[A\n",
            " 30%|███       | 67/220.0 [00:34<01:18,  1.95it/s]\u001b[A\n",
            " 31%|███       | 68/220.0 [00:34<01:18,  1.93it/s]\u001b[A\n",
            " 31%|███▏      | 69/220.0 [00:35<01:17,  1.95it/s]\u001b[A\n",
            " 32%|███▏      | 70/220.0 [00:35<01:17,  1.94it/s]\u001b[A\n",
            " 32%|███▏      | 71/220.0 [00:36<01:16,  1.94it/s]\u001b[A\n",
            " 33%|███▎      | 72/220.0 [00:36<01:16,  1.93it/s]\u001b[A\n",
            " 33%|███▎      | 73/220.0 [00:37<01:16,  1.92it/s]\u001b[A\n",
            " 34%|███▎      | 74/220.0 [00:37<01:16,  1.92it/s]\u001b[A\n",
            " 34%|███▍      | 75/220.0 [00:38<01:14,  1.94it/s]\u001b[A\n",
            " 35%|███▍      | 76/220.0 [00:39<01:14,  1.94it/s]\u001b[A\n",
            " 35%|███▌      | 77/220.0 [00:39<01:13,  1.95it/s]\u001b[A\n",
            " 35%|███▌      | 78/220.0 [00:40<01:13,  1.94it/s]\u001b[A\n",
            " 36%|███▌      | 79/220.0 [00:40<01:12,  1.95it/s]\u001b[A\n",
            " 36%|███▋      | 80/220.0 [00:41<01:11,  1.96it/s]\u001b[A\n",
            " 37%|███▋      | 81/220.0 [00:41<01:11,  1.96it/s]\u001b[A\n",
            " 37%|███▋      | 82/220.0 [00:42<01:10,  1.95it/s]\u001b[A\n",
            " 38%|███▊      | 83/220.0 [00:42<01:11,  1.92it/s]\u001b[A\n",
            " 38%|███▊      | 84/220.0 [00:43<01:10,  1.93it/s]\u001b[A\n",
            " 39%|███▊      | 85/220.0 [00:43<01:10,  1.93it/s]\u001b[A\n",
            " 39%|███▉      | 86/220.0 [00:44<01:09,  1.93it/s]\u001b[A\n",
            " 40%|███▉      | 87/220.0 [00:44<01:08,  1.95it/s]\u001b[A\n",
            " 40%|████      | 88/220.0 [00:45<01:07,  1.96it/s]\u001b[A\n",
            " 40%|████      | 89/220.0 [00:45<01:07,  1.95it/s]\u001b[A\n",
            " 41%|████      | 90/220.0 [00:46<01:06,  1.96it/s]\u001b[A\n",
            " 41%|████▏     | 91/220.0 [00:46<01:05,  1.96it/s]\u001b[A\n",
            " 42%|████▏     | 92/220.0 [00:47<01:05,  1.96it/s]\u001b[A\n",
            " 42%|████▏     | 93/220.0 [00:47<01:05,  1.93it/s]\u001b[A\n",
            " 43%|████▎     | 94/220.0 [00:48<01:05,  1.94it/s]\u001b[A\n",
            " 43%|████▎     | 95/220.0 [00:48<01:05,  1.92it/s]\u001b[A\n",
            " 44%|████▎     | 96/220.0 [00:49<01:04,  1.93it/s]\u001b[A\n",
            " 44%|████▍     | 97/220.0 [00:49<01:03,  1.93it/s]\u001b[A\n",
            " 45%|████▍     | 98/220.0 [00:50<01:02,  1.94it/s]\u001b[A\n",
            " 45%|████▌     | 99/220.0 [00:50<01:02,  1.93it/s]\u001b[A\n",
            " 45%|████▌     | 100/220.0 [00:51<01:01,  1.94it/s]\u001b[A\n",
            " 46%|████▌     | 101/220.0 [00:51<01:01,  1.95it/s]\u001b[A\n",
            " 46%|████▋     | 102/220.0 [00:52<01:00,  1.95it/s]\u001b[A\n",
            " 47%|████▋     | 103/220.0 [00:52<01:00,  1.95it/s]\u001b[A\n",
            " 47%|████▋     | 104/220.0 [00:53<00:59,  1.96it/s]\u001b[A\n",
            " 48%|████▊     | 105/220.0 [00:53<00:58,  1.95it/s]\u001b[A\n",
            " 48%|████▊     | 106/220.0 [00:54<00:58,  1.96it/s]\u001b[A\n",
            " 49%|████▊     | 107/220.0 [00:54<00:57,  1.96it/s]\u001b[A\n",
            " 49%|████▉     | 108/220.0 [00:55<00:57,  1.95it/s]\u001b[A\n",
            " 50%|████▉     | 109/220.0 [00:55<00:57,  1.94it/s]\u001b[A\n",
            " 50%|█████     | 110/220.0 [00:56<00:56,  1.96it/s]\u001b[A\n",
            " 50%|█████     | 111/220.0 [00:57<00:56,  1.94it/s]\u001b[A\n",
            " 51%|█████     | 112/220.0 [00:57<00:55,  1.96it/s]\u001b[A\n",
            " 51%|█████▏    | 113/220.0 [00:58<00:54,  1.96it/s]\u001b[A\n",
            " 52%|█████▏    | 114/220.0 [00:58<00:54,  1.95it/s]\u001b[A\n",
            " 52%|█████▏    | 115/220.0 [00:59<00:54,  1.93it/s]\u001b[A\n",
            " 53%|█████▎    | 116/220.0 [00:59<00:53,  1.93it/s]\u001b[A\n",
            " 53%|█████▎    | 117/220.0 [01:00<00:53,  1.93it/s]\u001b[A\n",
            " 54%|█████▎    | 118/220.0 [01:00<00:52,  1.93it/s]\u001b[A\n",
            " 54%|█████▍    | 119/220.0 [01:01<00:52,  1.93it/s]\u001b[A\n",
            " 55%|█████▍    | 120/220.0 [01:01<00:51,  1.95it/s]\u001b[A\n",
            " 55%|█████▌    | 121/220.0 [01:02<00:51,  1.93it/s]\u001b[A\n",
            " 55%|█████▌    | 122/220.0 [01:02<00:50,  1.94it/s]\u001b[A\n",
            " 56%|█████▌    | 123/220.0 [01:03<00:50,  1.93it/s]\u001b[A\n",
            " 56%|█████▋    | 124/220.0 [01:03<00:50,  1.91it/s]\u001b[A\n",
            " 57%|█████▋    | 125/220.0 [01:04<00:49,  1.92it/s]\u001b[A\n",
            " 57%|█████▋    | 126/220.0 [01:04<00:49,  1.91it/s]\u001b[A\n",
            " 58%|█████▊    | 127/220.0 [01:05<00:48,  1.92it/s]\u001b[A\n",
            " 58%|█████▊    | 128/220.0 [01:05<00:47,  1.93it/s]\u001b[A\n",
            " 59%|█████▊    | 129/220.0 [01:06<00:47,  1.93it/s]\u001b[A\n",
            " 59%|█████▉    | 130/220.0 [01:06<00:46,  1.95it/s]\u001b[A\n",
            " 60%|█████▉    | 131/220.0 [01:07<00:46,  1.92it/s]\u001b[A\n",
            " 60%|██████    | 132/220.0 [01:07<00:45,  1.93it/s]\u001b[A\n",
            " 60%|██████    | 133/220.0 [01:08<00:44,  1.94it/s]\u001b[A\n",
            " 61%|██████    | 134/220.0 [01:08<00:44,  1.93it/s]\u001b[A\n",
            " 61%|██████▏   | 135/220.0 [01:09<00:44,  1.92it/s]\u001b[A\n",
            " 62%|██████▏   | 136/220.0 [01:09<00:43,  1.93it/s]\u001b[A\n",
            " 62%|██████▏   | 137/220.0 [01:10<00:43,  1.92it/s]\u001b[A\n",
            " 63%|██████▎   | 138/220.0 [01:11<00:42,  1.93it/s]\u001b[A\n",
            " 63%|██████▎   | 139/220.0 [01:11<00:42,  1.91it/s]\u001b[A\n",
            " 64%|██████▎   | 140/220.0 [01:12<00:41,  1.92it/s]\u001b[A\n",
            " 64%|██████▍   | 141/220.0 [01:12<00:41,  1.93it/s]\u001b[A\n",
            " 65%|██████▍   | 142/220.0 [01:13<00:40,  1.93it/s]\u001b[A\n",
            " 65%|██████▌   | 143/220.0 [01:13<00:40,  1.91it/s]\u001b[A\n",
            " 65%|██████▌   | 144/220.0 [01:14<00:39,  1.91it/s]\u001b[A\n",
            " 66%|██████▌   | 145/220.0 [01:14<00:39,  1.91it/s]\u001b[A\n",
            " 66%|██████▋   | 146/220.0 [01:15<00:38,  1.90it/s]\u001b[A\n",
            " 67%|██████▋   | 147/220.0 [01:15<00:38,  1.91it/s]\u001b[A\n",
            " 67%|██████▋   | 148/220.0 [01:16<00:37,  1.90it/s]\u001b[A\n",
            " 68%|██████▊   | 149/220.0 [01:16<00:37,  1.90it/s]\u001b[A\n",
            " 68%|██████▊   | 150/220.0 [01:17<00:36,  1.90it/s]\u001b[A\n",
            " 69%|██████▊   | 151/220.0 [01:17<00:36,  1.88it/s]\u001b[A\n",
            " 69%|██████▉   | 152/220.0 [01:18<00:35,  1.89it/s]\u001b[A\n",
            " 70%|██████▉   | 153/220.0 [01:18<00:35,  1.90it/s]\u001b[A\n",
            " 70%|███████   | 154/220.0 [01:19<00:34,  1.91it/s]\u001b[A\n",
            " 70%|███████   | 155/220.0 [01:19<00:33,  1.91it/s]\u001b[A\n",
            " 71%|███████   | 156/220.0 [01:20<00:33,  1.90it/s]\u001b[A\n",
            " 71%|███████▏  | 157/220.0 [01:20<00:33,  1.89it/s]\u001b[A\n",
            " 72%|███████▏  | 158/220.0 [01:21<00:32,  1.91it/s]\u001b[A\n",
            " 72%|███████▏  | 159/220.0 [01:22<00:31,  1.91it/s]\u001b[A\n",
            " 73%|███████▎  | 160/220.0 [01:22<00:31,  1.90it/s]\u001b[A\n",
            " 73%|███████▎  | 161/220.0 [01:23<00:31,  1.88it/s]\u001b[A\n",
            " 74%|███████▎  | 162/220.0 [01:23<00:30,  1.89it/s]\u001b[A\n",
            " 74%|███████▍  | 163/220.0 [01:24<00:30,  1.90it/s]\u001b[A\n",
            " 75%|███████▍  | 164/220.0 [01:24<00:29,  1.89it/s]\u001b[A\n",
            " 75%|███████▌  | 165/220.0 [01:25<00:29,  1.90it/s]\u001b[A\n",
            " 75%|███████▌  | 166/220.0 [01:25<00:28,  1.91it/s]\u001b[A\n",
            " 76%|███████▌  | 167/220.0 [01:26<00:27,  1.91it/s]\u001b[A\n",
            " 76%|███████▋  | 168/220.0 [01:26<00:27,  1.91it/s]\u001b[A\n",
            " 77%|███████▋  | 169/220.0 [01:27<00:26,  1.90it/s]\u001b[A\n",
            " 77%|███████▋  | 170/220.0 [01:27<00:26,  1.89it/s]\u001b[A\n",
            " 78%|███████▊  | 171/220.0 [01:28<00:25,  1.89it/s]\u001b[A\n",
            " 78%|███████▊  | 172/220.0 [01:28<00:25,  1.90it/s]\u001b[A\n",
            " 79%|███████▊  | 173/220.0 [01:29<00:24,  1.91it/s]\u001b[A\n",
            " 79%|███████▉  | 174/220.0 [01:29<00:24,  1.90it/s]\u001b[A\n",
            " 80%|███████▉  | 175/220.0 [01:30<00:23,  1.90it/s]\u001b[A\n",
            " 80%|████████  | 176/220.0 [01:30<00:23,  1.90it/s]\u001b[A\n",
            " 80%|████████  | 177/220.0 [01:31<00:22,  1.90it/s]\u001b[A\n",
            " 81%|████████  | 178/220.0 [01:32<00:22,  1.89it/s]\u001b[A\n",
            " 81%|████████▏ | 179/220.0 [01:32<00:21,  1.91it/s]\u001b[A\n",
            " 82%|████████▏ | 180/220.0 [01:33<00:20,  1.91it/s]\u001b[A\n",
            " 82%|████████▏ | 181/220.0 [01:33<00:20,  1.90it/s]\u001b[A\n",
            " 83%|████████▎ | 182/220.0 [01:34<00:20,  1.89it/s]\u001b[A\n",
            " 83%|████████▎ | 183/220.0 [01:34<00:19,  1.91it/s]\u001b[A\n",
            " 84%|████████▎ | 184/220.0 [01:35<00:18,  1.92it/s]\u001b[A\n",
            " 84%|████████▍ | 185/220.0 [01:35<00:18,  1.93it/s]\u001b[A\n",
            " 85%|████████▍ | 186/220.0 [01:36<00:17,  1.93it/s]\u001b[A\n",
            " 85%|████████▌ | 187/220.0 [01:36<00:17,  1.94it/s]\u001b[A\n",
            " 85%|████████▌ | 188/220.0 [01:37<00:16,  1.93it/s]\u001b[A\n",
            " 86%|████████▌ | 189/220.0 [01:37<00:15,  1.96it/s]\u001b[A\n",
            " 86%|████████▋ | 190/220.0 [01:38<00:15,  1.95it/s]\u001b[A\n",
            " 87%|████████▋ | 191/220.0 [01:38<00:14,  1.96it/s]\u001b[A\n",
            " 87%|████████▋ | 192/220.0 [01:39<00:14,  1.96it/s]\u001b[A\n",
            " 88%|████████▊ | 193/220.0 [01:39<00:13,  1.97it/s]\u001b[A\n",
            " 88%|████████▊ | 194/220.0 [01:40<00:13,  1.95it/s]\u001b[A\n",
            " 89%|████████▊ | 195/220.0 [01:40<00:12,  1.93it/s]\u001b[A\n",
            " 89%|████████▉ | 196/220.0 [01:41<00:12,  1.90it/s]\u001b[A\n",
            " 90%|████████▉ | 197/220.0 [01:41<00:12,  1.90it/s]\u001b[A\n",
            " 90%|█████████ | 198/220.0 [01:42<00:11,  1.87it/s]\u001b[A\n",
            " 90%|█████████ | 199/220.0 [01:42<00:11,  1.88it/s]\u001b[A\n",
            " 91%|█████████ | 200/220.0 [01:43<00:10,  1.86it/s]\u001b[A\n",
            " 91%|█████████▏| 201/220.0 [01:44<00:10,  1.85it/s]\u001b[A\n",
            " 92%|█████████▏| 202/220.0 [01:44<00:09,  1.84it/s]\u001b[A\n",
            " 92%|█████████▏| 203/220.0 [01:45<00:09,  1.86it/s]\u001b[A\n",
            " 93%|█████████▎| 204/220.0 [01:45<00:08,  1.85it/s]\u001b[A\n",
            " 93%|█████████▎| 205/220.0 [01:46<00:08,  1.86it/s]\u001b[A\n",
            " 94%|█████████▎| 206/220.0 [01:46<00:07,  1.86it/s]\u001b[A\n",
            " 94%|█████████▍| 207/220.0 [01:47<00:06,  1.86it/s]\u001b[A\n",
            " 95%|█████████▍| 208/220.0 [01:47<00:06,  1.85it/s]\u001b[A\n",
            " 95%|█████████▌| 209/220.0 [01:48<00:05,  1.86it/s]\u001b[A\n",
            " 95%|█████████▌| 210/220.0 [01:48<00:05,  1.86it/s]\u001b[A\n",
            " 96%|█████████▌| 211/220.0 [01:49<00:04,  1.85it/s]\u001b[A\n",
            " 96%|█████████▋| 212/220.0 [01:50<00:04,  1.86it/s]\u001b[A\n",
            " 97%|█████████▋| 213/220.0 [01:50<00:03,  1.86it/s]\u001b[A\n",
            " 97%|█████████▋| 214/220.0 [01:51<00:03,  1.86it/s]\u001b[A\n",
            " 98%|█████████▊| 215/220.0 [01:51<00:02,  1.87it/s]\u001b[A\n",
            " 98%|█████████▊| 216/220.0 [01:52<00:02,  1.59it/s]\u001b[A\n",
            " 99%|█████████▊| 217/220.0 [01:52<00:01,  1.66it/s]\u001b[A\n",
            " 99%|█████████▉| 218/220.0 [01:53<00:01,  1.73it/s]\u001b[A\n",
            "100%|█████████▉| 219/220.0 [01:54<00:00,  1.77it/s]\u001b[A\n",
            "100%|██████████| 220/220.0 [01:54<00:00,  1.93it/s]\u001b[A"
          ],
          "name": "stderr"
        }
      ]
    },
    {
      "cell_type": "code",
      "metadata": {
        "ExecuteTime": {
          "end_time": "2018-11-07T16:27:51.293010Z",
          "start_time": "2018-11-07T16:27:51.111607Z"
        },
        "id": "fMFW9Texc3Uj",
        "colab_type": "code",
        "outputId": "a6b0eeb5-8886-4e91-f6c7-d502af6af5c1",
        "colab": {
          "base_uri": "https://localhost:8080/",
          "height": 34
        }
      },
      "source": [
        "! wc -l submission.csv"
      ],
      "execution_count": 0,
      "outputs": [
        {
          "output_type": "stream",
          "text": [
            "112200 submission.csv\n"
          ],
          "name": "stdout"
        }
      ]
    },
    {
      "cell_type": "code",
      "metadata": {
        "ExecuteTime": {
          "end_time": "2018-11-07T13:18:12.630549Z",
          "start_time": "2018-11-07T13:17:59.689315Z"
        },
        "id": "rtdc9XDZc3Um",
        "colab_type": "code",
        "outputId": "e57ddaa0-605d-40f3-ef8b-445f88c606d0",
        "colab": {
          "base_uri": "https://localhost:8080/",
          "height": 68
        }
      },
      "source": [
        "# submit to kaggle\n",
        "! KAGGLE_USERNAME=ivanknu KAGGLE_KEY=cb3f739e7c61898325f835aa223e2eca kaggle competitions submit quickdraw-doodle-recognition -f submission.csv -m \"bigaboom 512batch 300step 35epoch on 18th ep\""
      ],
      "execution_count": 0,
      "outputs": [
        {
          "output_type": "stream",
          "text": [
            "Warning: Looks like you're using an outdated API Version, please consider updating (server 1.5.6 / client 1.5.4)\n",
            "100% 4.42M/4.42M [00:03<00:00, 1.39MB/s]\n",
            "Successfully submitted to Quick, Draw! Doodle Recognition Challenge"
          ],
          "name": "stdout"
        }
      ]
    },
    {
      "cell_type": "code",
      "metadata": {
        "id": "zTWtaOm-6dEQ",
        "colab_type": "code",
        "colab": {}
      },
      "source": [
        " "
      ],
      "execution_count": 0,
      "outputs": []
    }
  ]
}